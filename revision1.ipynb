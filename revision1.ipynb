{
 "cells": [
  {
   "cell_type": "code",
   "execution_count": 4,
   "id": "0b1e5272-13b2-40e2-ada6-7dae52bff9af",
   "metadata": {},
   "outputs": [
    {
     "name": "stdin",
     "output_type": "stream",
     "text": [
      "Enter ur age 12\n"
     ]
    },
    {
     "name": "stdout",
     "output_type": "stream",
     "text": [
      "no age found\n"
     ]
    }
   ],
   "source": [
    "age=int(input(\"Enter ur age\"))\n",
    "if age >18:\n",
    "     print(\"age is 18\")\n",
    "else:\n",
    "     print(\"no age found\")"
   ]
  },
  {
   "cell_type": "code",
   "execution_count": 10,
   "id": "396b8898-c95d-4db6-a01e-6ff8f119646b",
   "metadata": {},
   "outputs": [
    {
     "name": "stdin",
     "output_type": "stream",
     "text": [
      "Enter: 19\n"
     ]
    },
    {
     "name": "stdout",
     "output_type": "stream",
     "text": [
      "you are old49\n"
     ]
    }
   ],
   "source": [
    "age2=int(input(\"Enter:\"))\n",
    "if age2 > 18:\n",
    "    print(f\"you are old{age2+30}\")\n",
    "else:\n",
    "    print(f\"you are young{age2-20}\")\n",
    "              "
   ]
  },
  {
   "cell_type": "code",
   "execution_count": 19,
   "id": "ca297bc6-163d-491d-88a2-9e5b008a3000",
   "metadata": {},
   "outputs": [
    {
     "name": "stdin",
     "output_type": "stream",
     "text": [
      "enter the age 67\n"
     ]
    },
    {
     "name": "stdout",
     "output_type": "stream",
     "text": [
      "its time to return\n"
     ]
    }
   ],
   "source": [
    "joining_age=int(input(\"enter the age\"))\n",
    "while joining_age <= 60:\n",
    "    joining_age =joining_age+1\n",
    "    print(joining_age)\n",
    "else:\n",
    "    print(\"its time to return\")"
   ]
  },
  {
   "cell_type": "code",
   "execution_count": 21,
   "id": "0014fa7a-cfbb-499b-b205-0214e4d8853b",
   "metadata": {},
   "outputs": [
    {
     "name": "stdout",
     "output_type": "stream",
     "text": [
      "minaz\n",
      "beautiful and intelligent\n",
      "1\n",
      "12\n",
      "34\n",
      "4\n",
      "apple\n",
      "bannana\n"
     ]
    }
   ],
   "source": [
    "lst=[\"minaz\",1,12,34,4,'apple','bannana']\n",
    "for x in lst:\n",
    "    print(x)\n",
    "    if x==\"minaz\":\n",
    "        print(\"beautiful and intelligent\")"
   ]
  },
  {
   "cell_type": "code",
   "execution_count": 23,
   "id": "114ee7f5-b3e8-4ed7-a944-e4f30be9b2d7",
   "metadata": {},
   "outputs": [
    {
     "name": "stdout",
     "output_type": "stream",
     "text": [
      "1\n",
      "4\n"
     ]
    }
   ],
   "source": [
    "n=7\n",
    "for i in range(1,6,3):\n",
    "    print(i)\n",
    "    "
   ]
  },
  {
   "cell_type": "code",
   "execution_count": 27,
   "id": "742f7c8c-299f-4781-a502-54e3f207149f",
   "metadata": {},
   "outputs": [
    {
     "name": "stdout",
     "output_type": "stream",
     "text": [
      "*\n",
      "**\n",
      "***\n",
      "****\n",
      "*****\n",
      "******\n",
      "*******\n"
     ]
    }
   ],
   "source": [
    "n=7\n",
    "for i in range(0,n):\n",
    "    for j in range(0,i+1):\n",
    "        print(\"*\",end=\"\")\n",
    "    print(\"\\r\")"
   ]
  },
  {
   "cell_type": "code",
   "execution_count": 34,
   "id": "6a3bbe42-e05a-4d4f-8e52-3288f6f86fab",
   "metadata": {},
   "outputs": [
    {
     "name": "stdout",
     "output_type": "stream",
     "text": [
      "* \n",
      "* * \n",
      "* * * \n",
      "* * * * \n",
      "* * * * * \n"
     ]
    }
   ],
   "source": [
    "n=5\n",
    "for i in range(0,n):\n",
    "    for j in range(0,i+1):\n",
    "        print(\"*\",end=\" \")\n",
    "    print('\\r')"
   ]
  },
  {
   "cell_type": "code",
   "execution_count": 38,
   "id": "14050799-8219-4e8f-ad63-503f8feaf525",
   "metadata": {},
   "outputs": [
    {
     "name": "stdin",
     "output_type": "stream",
     "text": [
      "Enter the number 12\n"
     ]
    },
    {
     "name": "stdout",
     "output_type": "stream",
     "text": [
      "           *           **           ****           ******           ********           **********           ************           **************           ****************           ******************           ********************           **********************"
     ]
    }
   ],
   "source": [
    "size=int(input(\"Enter the number\"))\n",
    "for i  in range(size):\n",
    "    for j in range(size-1):\n",
    "        print(\" \",end=\"\")\n",
    "    for k in range(i+1):\n",
    "        print(\"*\",end=\"\")\n",
    "    for m in range(k-1):\n",
    "        print(\"*\",end=\"\")\n",
    "    print\n",
    "         "
   ]
  },
  {
   "cell_type": "code",
   "execution_count": null,
   "id": "a4cd4ad7-69b1-4eff-a1b9-c77c285ef457",
   "metadata": {},
   "outputs": [],
   "source": []
  }
 ],
 "metadata": {
  "kernelspec": {
   "display_name": "Python 3 (ipykernel)",
   "language": "python",
   "name": "python3"
  },
  "language_info": {
   "codemirror_mode": {
    "name": "ipython",
    "version": 3
   },
   "file_extension": ".py",
   "mimetype": "text/x-python",
   "name": "python",
   "nbconvert_exporter": "python",
   "pygments_lexer": "ipython3",
   "version": "3.10.8"
  }
 },
 "nbformat": 4,
 "nbformat_minor": 5
}
